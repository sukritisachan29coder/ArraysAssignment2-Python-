{
 "cells": [
  {
   "cell_type": "markdown",
   "id": "950924b6",
   "metadata": {},
   "source": [
    "Question 2\n",
    "Alice has n candies, where the ith candy is of type candyType[i]. Alice noticed that she started to gain weight, so she visited a doctor. \n",
    "\n",
    "The doctor advised Alice to only eat n / 2 of the candies she has (n is always even). Alice likes her candies very much, and she wants to eat the maximum number of different types of candies while still following the doctor's advice. \n",
    "\n",
    "Given the integer array candyType of length n, return the maximum number of different types of candies she can eat if she only eats n / 2 of them.\n",
    "\n",
    "Example 1:\n",
    "Input: candyType = [1,1,2,2,3,3]\n",
    "Output: 3\n",
    "\n",
    "Explanation: Alice can only eat 6 / 2 = 3 candies. Since there are only 3 types, she can eat one of each type."
   ]
  },
  {
   "cell_type": "code",
   "execution_count": 15,
   "id": "8ef84d1b",
   "metadata": {},
   "outputs": [
    {
     "name": "stdout",
     "output_type": "stream",
     "text": [
      "Enter length6\n",
      "1\n",
      "1\n",
      "2\n",
      "2\n",
      "3\n",
      "3\n",
      "3\n"
     ]
    }
   ],
   "source": [
    "import logging\n",
    "logging.basicConfig(filename=\"testpandas.log\",level=logging.DEBUG,format='%(asctime)s %(levelname)s %(message)s')\n",
    "l=int(input(\"Enter length\"))\n",
    "res=[]\n",
    "nums=[]\n",
    "\n",
    "logging.info(\"Entering try block\")\n",
    "try:\n",
    "    def candy(l,nums,res):\n",
    "        for i in range(0,l):\n",
    "            t=int(input())\n",
    "            nums.append(t)\n",
    "        nums.sort()\n",
    "        res=nums[0:l:2]\n",
    "        print(len(res))    \n",
    "        logging.info(\"Result obtained successfully\")\n",
    "except Exception as e:\n",
    "    logging.ERROR(\"Some error ocurred, please recheck code\")\n",
    "candy(l,nums,res)"
   ]
  },
  {
   "cell_type": "markdown",
   "id": "e038643d",
   "metadata": {},
   "source": [
    "Given an array of integers nums which is sorted in ascending order, and an integer target,\n",
    "write a function to search target in nums. If target exists, then return its index. Otherwise,\n",
    "return -1.\n",
    "\n",
    "You must write an algorithm with O(log n) runtime complexity.\n",
    "\n",
    "Input: nums = [-1,0,3,5,9,12], target = 9\n",
    "Output: 4\n",
    "\n",
    "Explanation: 9 exists in nums and its index is 4"
   ]
  },
  {
   "cell_type": "code",
   "execution_count": 23,
   "id": "e2abdd9d",
   "metadata": {},
   "outputs": [
    {
     "name": "stdout",
     "output_type": "stream",
     "text": [
      "Enter length6\n",
      "Enter element to be searched9\n",
      "1\n",
      "5\n",
      "9\n",
      "4\n",
      "0\n",
      "3\n",
      "2\n"
     ]
    }
   ],
   "source": [
    "import logging\n",
    "logging.basicConfig(filename=\"testpandas.log\",level=logging.DEBUG,format='%(asctime)s %(levelname)s %(message)s')\n",
    "l=int(input(\"Enter length\"))\n",
    "s=int(input(\"Enter element to be searched\"))\n",
    "nums=[]\n",
    "\n",
    "logging.info(\"Entering try block\")\n",
    "try:\n",
    "    def asc(l,s,nums):\n",
    "        for i in range(0,l):\n",
    "            t=int(input())\n",
    "            nums.append(t)\n",
    "        if s in nums:\n",
    "            print(nums.index(s))\n",
    "        logging.info(\"Result obtained successfully\")\n",
    "except Exception as e:\n",
    "    logging.ERROR(\"Some error ocurred, please recheck code\")\n",
    "asc(l,s,nums)"
   ]
  },
  {
   "cell_type": "markdown",
   "id": "fd8ca36e",
   "metadata": {},
   "source": [
    "You have a long flowerbed in which some of the plots are planted, and some are not.\n",
    "However, flowers cannot be planted in adjacent plots.\n",
    "Given an integer array flowerbed containing 0's and 1's, where 0 means empty and 1 means not empty, and an integer n, return true if n new flowers can be planted in the flowerbed without violating the no-adjacent-flowers rule and false otherwise.\n",
    "\n",
    "Example 1:\n",
    "Input: flowerbed = [1,0,0,0,1], n = 1\n",
    "Output: true"
   ]
  },
  {
   "cell_type": "code",
   "execution_count": 4,
   "id": "26d3242a",
   "metadata": {},
   "outputs": [
    {
     "name": "stdout",
     "output_type": "stream",
     "text": [
      "Enter length5\n",
      "No of plants?2\n",
      "0\n",
      "0\n",
      "0\n",
      "1\n",
      "1\n",
      "False 1 2\n"
     ]
    }
   ],
   "source": [
    "import logging\n",
    "logging.basicConfig(filename=\"testpandas.log\",level=logging.DEBUG,format='%(asctime)s %(levelname)s %(message)s')\n",
    "l=int(input(\"Enter length\"))\n",
    "nums=[]\n",
    "c0=0\n",
    "c1=0\n",
    "t=0\n",
    "cp=int(input(\"No of plants?\"))\n",
    "logging.info(\"Entering try block\")\n",
    "try:\n",
    "    def flow(l,cp,nums):\n",
    "        t=0\n",
    "        for i in range(0,l):\n",
    "            p=int(input())\n",
    "            nums.append(p)\n",
    "        c0=nums.count(0)\n",
    "        c1=nums.count(1)\n",
    "        \n",
    "        if(c1>c0):\n",
    "            print(\"False\")\n",
    "        if nums[0]==0 and nums[1]==0: \n",
    "            t=t+1\n",
    "            nums[0]=1\n",
    "        if nums[l-1]==0 and nums[l-2]==0:\n",
    "            t=t+1\n",
    "            nums[l-1]=1\n",
    "        for i in range(1,l-1):\n",
    "            logging.info(\"Entered for loop\")\n",
    "            if nums[i-1]==0 and nums[i+1]==0 and nums[i]!=1:\n",
    "                t=t+1\n",
    "                nums[i]=1\n",
    "                logging.info(\"Entered if\")\n",
    "        if(t>=cp):\n",
    "            print(\"True\",t,cp)\n",
    "        else:\n",
    "            print(\"False\",t,cp)\n",
    "                              \n",
    "        logging.info(\"Result obtained successfully\")\n",
    "except Exception as e:\n",
    "    logging.ERROR(\"Some error ocurred, please recheck code\")\n",
    "flow(l,cp,nums)"
   ]
  },
  {
   "cell_type": "markdown",
   "id": "0559c45f",
   "metadata": {},
   "source": [
    "Given an integer array nums, find three numbers whose product is maximum and return the maximum product.\n",
    "\n",
    "Example 1:\n",
    "Input: nums = [1,2,3]\n",
    "Output: 6"
   ]
  },
  {
   "cell_type": "code",
   "execution_count": 42,
   "id": "4df87f66",
   "metadata": {},
   "outputs": [
    {
     "name": "stdout",
     "output_type": "stream",
     "text": [
      "Length?5\n",
      "4\n",
      "2\n",
      "8\n",
      "6\n",
      "5\n",
      "[5, 6, 8, 2, 4]\n"
     ]
    },
    {
     "data": {
      "text/plain": [
       "240"
      ]
     },
     "execution_count": 42,
     "metadata": {},
     "output_type": "execute_result"
    }
   ],
   "source": [
    "nums1=[]\n",
    "def prod(nums1):\n",
    "    l=int(input(\"Length?\"))\n",
    "    t_3=[]\n",
    "    p=1\n",
    "    for i in range(0,l):\n",
    "        inp=int(input())\n",
    "        nums1.append(inp)\n",
    "    nums1=nums1[::-1]\n",
    "    print(nums1)  \n",
    "    for i in range(0,3):\n",
    "        p=p*nums1[i]\n",
    "    return p\n",
    "prod(nums1)\n",
    "    "
   ]
  },
  {
   "cell_type": "markdown",
   "id": "8b5a3a99",
   "metadata": {},
   "source": [
    "You are given an integer array nums and an integer k.\n",
    "\n",
    "In one operation, you can choose any index i where 0 <= i < nums.length and change nums[i] to nums[i] + x where x is an integer from the range [-k, k]. You can apply this operation at most once for each index i.\n",
    "\n",
    "The score of nums is the difference between the maximum and minimum elements in nums.\n",
    "\n",
    "Return the minimum score of nums after applying the mentioned operation at most once for each index in it.\n",
    "\n",
    "Example 1:\n",
    "Input: nums = [1], k = 0\n",
    "Output: 0\n",
    "\n",
    "Explanation: The score is max(nums) - min(nums) = 1 - 1 = 0."
   ]
  },
  {
   "cell_type": "code",
   "execution_count": 44,
   "id": "87a3f60f",
   "metadata": {},
   "outputs": [
    {
     "name": "stdout",
     "output_type": "stream",
     "text": [
      "Enter length4\n",
      "Enter element to be added1\n",
      "1\n",
      "2\n",
      "3\n",
      "4\n"
     ]
    },
    {
     "data": {
      "text/plain": [
       "3"
      ]
     },
     "execution_count": 44,
     "metadata": {},
     "output_type": "execute_result"
    }
   ],
   "source": [
    "import logging\n",
    "logging.basicConfig(filename=\"testpandas.log\",level=logging.DEBUG,format='%(asctime)s %(levelname)s %(message)s')\n",
    "l=int(input(\"Enter length\"))\n",
    "s=int(input(\"Enter element to be added\"))\n",
    "arr=[]\n",
    "\n",
    "logging.info(\"Entering try block\")\n",
    "try:\n",
    "    def asc(l,s,nums):\n",
    "        for i in range(0,l):\n",
    "            t=int(input())\n",
    "            arr.append(t)\n",
    "        for i in nums:\n",
    "            i=i+s\n",
    "        sm=min(arr)\n",
    "        big=max(arr)\n",
    "        return big-sm\n",
    "        logging.info(\"Result obtained successfully\")\n",
    "except Exception as e:\n",
    "    logging.ERROR(\"Some error ocurred, please recheck code\")\n",
    "asc(l,s,arr)"
   ]
  },
  {
   "cell_type": "markdown",
   "id": "f0fea726",
   "metadata": {},
   "source": [
    "An array is monotonic if it is either monotone increasing or monotone decreasing.\n",
    "\n",
    "An array nums is monotone increasing if for all i <= j, nums[i] <= nums[j]. An array nums is\n",
    "monotone decreasing if for all i <= j, nums[i] >= nums[j].\n",
    "\n",
    "Given an integer array nums, return true if the given array is monotonic, or false otherwise.\n",
    "\n",
    "Example 1:\n",
    "Input: nums = [1,2,2,3]\n",
    "Output: true"
   ]
  },
  {
   "cell_type": "code",
   "execution_count": 45,
   "id": "3acc21b3",
   "metadata": {},
   "outputs": [
    {
     "data": {
      "text/plain": [
       "True"
      ]
     },
     "execution_count": 45,
     "metadata": {},
     "output_type": "execute_result"
    }
   ],
   "source": [
    "def isMonotonic(nums):\n",
    "    is_inc = True\n",
    "    is_dec = True\n",
    "    \n",
    "    for i in range(len(nums) - 1):\n",
    "        if nums[i] > nums[i + 1]:\n",
    "            is_inc = False\n",
    "        if nums[i] < nums[i + 1]:\n",
    "            is_dec = False\n",
    "    if is_inc==True or isdec==True:\n",
    "        return True\n",
    "    else:\n",
    "        return False\n",
    "isMonotonic([1,2,2,3])"
   ]
  }
 ],
 "metadata": {
  "kernelspec": {
   "display_name": "Python 3 (ipykernel)",
   "language": "python",
   "name": "python3"
  },
  "language_info": {
   "codemirror_mode": {
    "name": "ipython",
    "version": 3
   },
   "file_extension": ".py",
   "mimetype": "text/x-python",
   "name": "python",
   "nbconvert_exporter": "python",
   "pygments_lexer": "ipython3",
   "version": "3.9.13"
  }
 },
 "nbformat": 4,
 "nbformat_minor": 5
}
